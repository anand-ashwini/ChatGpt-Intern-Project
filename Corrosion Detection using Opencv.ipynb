{
 "cells": [
  {
   "cell_type": "code",
   "execution_count": 6,
   "id": "e4fb27a3",
   "metadata": {},
   "outputs": [],
   "source": [
    "import numpy as np\n",
    "import cv2"
   ]
  },
  {
   "cell_type": "code",
   "execution_count": 7,
   "id": "71a73fda",
   "metadata": {},
   "outputs": [],
   "source": [
    "# Python code for Corrosion Detection\n",
    "\n",
    "import numpy as np\n",
    "import cv2\n",
    "\n",
    "\n",
    "# read and capturing image\n",
    "img = cv2.imread(\"shipimg2.jpg\", cv2.IMREAD_COLOR)\n",
    "\n",
    "# Convert the imageFrame in\n",
    "# BGR(RGB color space) to\n",
    "# HSV(hue-saturation-value)\n",
    "# color space\n",
    "hsvFrame = cv2.cvtColor(img, cv2.COLOR_BGR2HSV)\n",
    "\n",
    "\n",
    "\n"
   ]
  },
  {
   "cell_type": "code",
   "execution_count": 8,
   "id": "147a9855",
   "metadata": {},
   "outputs": [],
   "source": [
    "# Set range for corrosion color and\n",
    "# define mask\n",
    "corr_lower = np.array([0, 70, 70], np.uint8)\n",
    "corr_upper = np.array([20, 200, 150], np.uint8)\n",
    "corr_mask = cv2.inRange(hsvFrame, corr_lower, corr_upper)\n",
    "\n",
    "# Morphological Transform, Dilation\n",
    "# for each corrosion color and bitwise_and operator\n",
    "# between imageFrame and mask determines\n",
    "# to detect only that particular corrosion color\n",
    "kernal = np.ones((5, 5), \"uint8\")"
   ]
  },
  {
   "cell_type": "code",
   "execution_count": 9,
   "id": "ab28fcb9",
   "metadata": {},
   "outputs": [],
   "source": [
    "# For corrosion color\n",
    "corr_mask = cv2.dilate(corr_mask, kernal)\n",
    "res_corr = cv2.bitwise_and(img, img,mask = corr_mask)\n",
    "\n",
    "# Creating contour to track corrosion color\n",
    "contours, hierarchy = cv2.findContours(corr_mask,cv2.RETR_TREE,cv2.CHAIN_APPROX_SIMPLE)\n",
    "\n",
    "for pic, contour in enumerate(contours):\n",
    "    area = cv2.contourArea(contour)\n",
    "    if(area > 300):\n",
    "        x, y, w, h = cv2.boundingRect(contour)\n",
    "        imageFrame = cv2.rectangle(img, (x, y),\n",
    "                                (x + w, y + h),\n",
    "                                (0, 0, 255), 2)\n",
    "        \n",
    "        cv2.putText(img, \"Corrosion\", (x, y),\n",
    "                    cv2.FONT_HERSHEY_SIMPLEX, 1.0,\n",
    "                    (0, 0, 255))\n",
    "\n"
   ]
  },
  {
   "cell_type": "code",
   "execution_count": 10,
   "id": "170232ea",
   "metadata": {},
   "outputs": [],
   "source": [
    "# Program Termination\n",
    "cv2.imshow(\"Corrosion Detection\", cv2.resize(img, (1000, 800)))\n",
    "cv2.waitKey(0)\n",
    "cv2.destroyAllWindows()"
   ]
  },
  {
   "cell_type": "code",
   "execution_count": null,
   "id": "71d324fd",
   "metadata": {},
   "outputs": [],
   "source": []
  }
 ],
 "metadata": {
  "kernelspec": {
   "display_name": "Python 3 (ipykernel)",
   "language": "python",
   "name": "python3"
  },
  "language_info": {
   "codemirror_mode": {
    "name": "ipython",
    "version": 3
   },
   "file_extension": ".py",
   "mimetype": "text/x-python",
   "name": "python",
   "nbconvert_exporter": "python",
   "pygments_lexer": "ipython3",
   "version": "3.9.13"
  }
 },
 "nbformat": 4,
 "nbformat_minor": 5
}
